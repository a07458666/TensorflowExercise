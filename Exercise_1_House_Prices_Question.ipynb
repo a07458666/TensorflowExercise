{
  "nbformat": 4,
  "nbformat_minor": 0,
  "metadata": {
    "colab": {
      "name": "Exercise 1 - House Prices - Question.ipynb",
      "version": "0.3.2",
      "provenance": [],
      "private_outputs": true,
      "include_colab_link": true
    },
    "kernelspec": {
      "name": "python3",
      "display_name": "Python 3"
    }
  },
  "cells": [
    {
      "cell_type": "markdown",
      "metadata": {
        "id": "view-in-github",
        "colab_type": "text"
      },
      "source": [
        "<a href=\"https://colab.research.google.com/github/a07458666/TensorflowExercise/blob/master/Exercise_1_House_Prices_Question.ipynb\" target=\"_parent\"><img src=\"https://colab.research.google.com/assets/colab-badge.svg\" alt=\"Open In Colab\"/></a>"
      ]
    },
    {
      "cell_type": "code",
      "metadata": {
        "id": "TCeiDwJRIOlF",
        "colab_type": "code",
        "colab": {}
      },
      "source": [
        "import tensorflow as tf\n",
        "import numpy as np\n",
        "from tensorflow import keras\n",
        "model = tf.keras.Sequential([keras.layers.Dense(units=1,input_shape=[1])])\n",
        "model.compile(optimizer='sgd', loss='mean_squared_error')\n",
        "xs = np.array([1.0, 2.0, 3.0, 4.0, 5.0, 6.0], dtype=float)\n",
        "ys = np.array([100000.0,150000.0, 200000.0, 250000.0, 300000.0, 350000.0], dtype=float)\n",
        "model.fit(xs, ys, epochs = 500)\n",
        "print(model.predict([7.0]))"
      ],
      "execution_count": 0,
      "outputs": []
    }
  ]
}